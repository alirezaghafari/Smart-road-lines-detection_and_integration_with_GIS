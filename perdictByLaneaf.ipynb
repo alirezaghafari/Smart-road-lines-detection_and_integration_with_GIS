{
  "cells": [
    {
      "cell_type": "markdown",
      "metadata": {
        "id": "oeBb6d_Jj6Pv"
      },
      "source": [
        "### Mounting Google Drive\n",
        "In this cell, you will mount Google Drive to the Colab environment. This allows you to access files and directories stored in your Drive. This is necessary for reading or writing files that are part of your project."
      ]
    },
    {
      "cell_type": "code",
      "source": [
        "from google.colab import drive\n",
        "drive.mount('/content/drive')"
      ],
      "metadata": {
        "id": "F7hZfpwH1KzI"
      },
      "execution_count": null,
      "outputs": []
    },
    {
      "cell_type": "markdown",
      "metadata": {
        "id": "lYqtl93Gj6Py"
      },
      "source": [
        "### Installing Miniconda and Setting Up Python Environment\n",
        "In this cell, you will download and install Miniconda, a lightweight version of Anaconda, to manage Python packages and environments. You will then set up a specific Python version to ensure compatibility with the project's requirements."
      ]
    },
    {
      "cell_type": "code",
      "execution_count": null,
      "metadata": {
        "id": "RFo8Fp87PWV-"
      },
      "outputs": [],
      "source": [
        "!wget https://repo.anaconda.com/miniconda/Miniconda3-py37_4.8.2-Linux-x86_64.sh\n",
        "!chmod +x Miniconda3-py37_4.8.2-Linux-x86_64.sh\n",
        "!bash ./Miniconda3-py37_4.8.2-Linux-x86_64.sh -b -f -p /usr/local\n",
        "!conda init\n",
        "!kill -SIGHUP $(pgrep -f ipykernel_launcher)\n",
        "!conda install python=3.6 -y"
      ]
    },
    {
      "cell_type": "markdown",
      "metadata": {
        "id": "_YQtV2Fmj6Pz"
      },
      "source": [
        "### Installing Required Python Libraries\n",
        "In this cell, you will install all necessary libraries and dependencies for the project using pip. This includes libraries like NumPy, SciPy, Matplotlib, Pillow, scikit-learn, OpenCV, and PyTorch."
      ]
    },
    {
      "cell_type": "code",
      "execution_count": null,
      "metadata": {
        "id": "xM6i2KABQodD"
      },
      "outputs": [],
      "source": [
        "!pip install numpy scipy matplotlib pillow scikit-learn\n",
        "!pip install opencv-python==4.5.3.56\n",
        "!pip install https://download.pytorch.org/whl/cu101/torch-1.7.0%2Bcu101-cp36-cp36m-linux_x86_64.whl\n",
        "!pip install https://download.pytorch.org/whl/cu101/torchvision-0.8.1%2Bcu101-cp36-cp36m-linux_x86_64.whl"
      ]
    },
    {
      "cell_type": "markdown",
      "metadata": {
        "id": "BMT7Uizvj6P0"
      },
      "source": [
        "### Cloning and Compiling the DCNv2 Repository\n",
        "In this cell, you will clone the DCNv2 repository from GitHub, navigate into the directory, and compile the necessary code. DCNv2 is a library that extends the functionality of convolutional layers in deep learning models."
      ]
    },
    {
      "cell_type": "code",
      "source": [
        "import os\n",
        "os.chdir('drive/MyDrive/LaneAF/models/dla')\n",
        "!git clone https://github.com/lbin/DCNv2.git\n",
        "os.chdir('DCNv2')\n",
        "!chmod +x make.sh\n",
        "!./make.sh\n",
        "os.chdir('../../..')"
      ],
      "metadata": {
        "id": "qyLiQQrU9vOp"
      },
      "execution_count": null,
      "outputs": []
    },
    {
      "cell_type": "markdown",
      "metadata": {
        "id": "KvjC_C0bj6P1"
      },
      "source": [
        "### Installing ipykernel\n",
        "In this cell, you will install the `ipykernel` package, which is necessary for running Jupyter notebooks. This step ensures that the kernel used by Jupyter is properly set up.If you receive a restart message after running this command, select 'Cancel' and proceed with executing the rest of the notebook."
      ]
    },
    {
      "cell_type": "code",
      "execution_count": null,
      "metadata": {
        "id": "w9q69yzOPHnm"
      },
      "outputs": [],
      "source": [
        "!pip install ipykernel"
      ]
    },
    {
      "cell_type": "markdown",
      "metadata": {
        "id": "bkEDjyPcj6P2"
      },
      "source": [
        "### Run this cell if you want to get only the binary masks for the frames."
      ]
    },
    {
      "cell_type": "code",
      "source": [
        "!python mask_of_all_frames.py --snapshot=net_0033.pth"
      ],
      "metadata": {
        "id": "Xs6Hrv7eG4yA"
      },
      "execution_count": null,
      "outputs": []
    },
    {
      "cell_type": "markdown",
      "metadata": {
        "id": "kmu-WOH_j6P3"
      },
      "source": [
        "### Run this cell if you want to get the colored model visualization."
      ]
    },
    {
      "cell_type": "code",
      "source": [
        "!python visualize_laneaf_on_one.py --snapshot=net_0033.pth --save-viz\n"
      ],
      "metadata": {
        "id": "ENX2xrHeI34q"
      },
      "execution_count": null,
      "outputs": []
    }
  ],
  "metadata": {
    "accelerator": "GPU",
    "colab": {
      "gpuType": "T4",
      "provenance": []
    },
    "kernelspec": {
      "display_name": "Python 3",
      "name": "python3"
    },
    "language_info": {
      "name": "python"
    }
  },
  "nbformat": 4,
  "nbformat_minor": 0
}